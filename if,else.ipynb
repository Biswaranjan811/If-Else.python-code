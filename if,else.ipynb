{
 "cells": [
  {
   "cell_type": "code",
   "execution_count": 4,
   "id": "71e97779",
   "metadata": {},
   "outputs": [],
   "source": [
    "a=50"
   ]
  },
  {
   "cell_type": "code",
   "execution_count": 9,
   "id": "7c69ea7e",
   "metadata": {},
   "outputs": [],
   "source": [
    "if a < 40:\n",
    "    Pass"
   ]
  },
  {
   "cell_type": "code",
   "execution_count": 10,
   "id": "f8c7dab9",
   "metadata": {},
   "outputs": [
    {
     "data": {
      "text/plain": [
       "False"
      ]
     },
     "execution_count": 10,
     "metadata": {},
     "output_type": "execute_result"
    }
   ],
   "source": [
    "a<30"
   ]
  },
  {
   "cell_type": "code",
   "execution_count": 11,
   "id": "49a277e6",
   "metadata": {},
   "outputs": [
    {
     "data": {
      "text/plain": [
       "False"
      ]
     },
     "execution_count": 11,
     "metadata": {},
     "output_type": "execute_result"
    }
   ],
   "source": [
    "a<50"
   ]
  },
  {
   "cell_type": "code",
   "execution_count": 12,
   "id": "661602f0",
   "metadata": {},
   "outputs": [
    {
     "data": {
      "text/plain": [
       "True"
      ]
     },
     "execution_count": 12,
     "metadata": {},
     "output_type": "execute_result"
    }
   ],
   "source": [
    "a<60"
   ]
  },
  {
   "cell_type": "code",
   "execution_count": 13,
   "id": "8de894a7",
   "metadata": {},
   "outputs": [
    {
     "data": {
      "text/plain": [
       "False"
      ]
     },
     "execution_count": 13,
     "metadata": {},
     "output_type": "execute_result"
    }
   ],
   "source": [
    "50<30"
   ]
  },
  {
   "cell_type": "code",
   "execution_count": 35,
   "id": "3792f40a",
   "metadata": {},
   "outputs": [
    {
     "name": "stdout",
     "output_type": "stream",
     "text": [
      "i will be able to buy a car\n"
     ]
    }
   ],
   "source": [
    "if 50000>10:\n",
    "   print(\"i will be able to buy a car\")\n",
    "else : \n",
    " print(\"the statement is true\")"
   ]
  },
  {
   "cell_type": "code",
   "execution_count": null,
   "id": "12d8baa9",
   "metadata": {},
   "outputs": [],
   "source": [
    "income = 600\n",
    "if income > 80:\n",
    "    print (\"i will be able to buy a porse\")\n",
    "elif income < 40:\n",
    "    print(\"i will be able to buy an iphone\")\n",
    "elif income < 50: \n",
    "    print(\" i will be able to buy a superbike\")\n",
    "else:\n",
    "    print(\" i will able to buy nothing\")"
   ]
  },
  {
   "cell_type": "code",
   "execution_count": 2,
   "id": "fa401c7f",
   "metadata": {},
   "outputs": [
    {
     "name": "stdout",
     "output_type": "stream",
     "text": [
      "140\n",
      " i will be able to buy a superbike\n"
     ]
    }
   ],
   "source": [
    "income = int(input())\n",
    "if income < 80:\n",
    "    print (\"i will be able to buy a porshe\")\n",
    "elif income < 100:\n",
    "    print(\"i will be able to buy an iphone\")\n",
    "elif income < 156: \n",
    "    print(\" i will be able to buy a superbike\")\n",
    "else:\n",
    "    print(\" i will able to buy nothing\")"
   ]
  },
  {
   "cell_type": "code",
   "execution_count": 23,
   "id": "fc3a9051",
   "metadata": {},
   "outputs": [
    {
     "name": "stdout",
     "output_type": "stream",
     "text": [
      "310000\n",
      "Discount of 93000.0\n"
     ]
    }
   ],
   "source": [
    "Total_price = int(input())\n",
    "if Total_price >30000 :\n",
    "    discount = Total_price * .30\n",
    "    print (\"Discount of\" ,discount)\n",
    "elif Total_price >=3000:\n",
    "            discount=Total_price *.05\n",
    "            print(\"Discount will be\"  , discount)\n",
    "else:\n",
    "        print(\"no discount available\")"
   ]
  },
  {
   "cell_type": "code",
   "execution_count": 24,
   "id": "033c4aaa",
   "metadata": {},
   "outputs": [
    {
     "name": "stdout",
     "output_type": "stream",
     "text": [
      "3467\n",
      "Discount will be 173.35000000000002\n"
     ]
    }
   ],
   "source": [
    "Total_price = int(input())\n",
    "if Total_price >30000 :\n",
    "    discount = Total_price * .30\n",
    "    print (\"Discount of\" ,discount)\n",
    "elif Total_price >=3000:\n",
    "            discount=Total_price *.05\n",
    "            print(\"Discount will be\"  , discount)\n",
    "else:\n",
    "        print(\"no discount available\")"
   ]
  },
  {
   "cell_type": "code",
   "execution_count": 33,
   "id": "e62f0a26",
   "metadata": {},
   "outputs": [
    {
     "name": "stdout",
     "output_type": "stream",
     "text": [
      "300\n",
      "no discount available\n"
     ]
    }
   ],
   "source": [
    "Total_price = int(input())\n",
    "if Total_price >30000 :\n",
    "    discount = Total_price * .30\n",
    "    print (\"Discount of\" ,discount)\n",
    "elif Total_price >=3000:\n",
    "            discount=Total_price *.05\n",
    "            print(\"Discount will be\"  , discount)\n",
    "else :\n",
    "    \n",
    "        discount=Total_price* .0\n",
    "        print(\"no discount available\")"
   ]
  },
  {
   "cell_type": "code",
   "execution_count": 9,
   "id": "a7542749",
   "metadata": {},
   "outputs": [
    {
     "name": "stdout",
     "output_type": "stream",
     "text": [
      "3\n",
      "you will never get a job\n"
     ]
    }
   ],
   "source": [
    "study_hour = int(input())\n",
    "if  study_hour > 2:\n",
    "    print(\"you will never get a job\")\n",
    "elif study_hour >= 4:\n",
    "    print(\"you will succeed for 50%\")\n",
    "elif study_hour > 6:\n",
    "    print(\"you will get a fine job\")\n",
    "elif study_hour <=10 :\n",
    "    print(\"you will just fly away\")\n",
    "else :\n",
    "    print(\"you can do nothing\")"
   ]
  },
  {
   "cell_type": "code",
   "execution_count": 17,
   "id": "da92c12a",
   "metadata": {},
   "outputs": [
    {
     "name": "stdout",
     "output_type": "stream",
     "text": [
      "130\n",
      "you can do nothing\n"
     ]
    }
   ],
   "source": [
    "study_hour = int(input())\n",
    "if  study_hour < 2:\n",
    "    print(\"you will never get a job\")\n",
    "elif study_hour <= 4:\n",
    "    print(\"you will succeed for 50%\")\n",
    "elif study_hour < 6:\n",
    "    print(\"you will get a fine job\")\n",
    "elif study_hour <=10 :\n",
    "    print(\"you will just fly away\")\n",
    "else :\n",
    "    print(\"you can do nothing\")"
   ]
  },
  {
   "cell_type": "code",
   "execution_count": 24,
   "id": "2ebf5912",
   "metadata": {},
   "outputs": [
    {
     "name": "stdout",
     "output_type": "stream",
     "text": [
      "B\n",
      "I\n",
      "S\n",
      "W\n",
      "A\n",
      "R\n",
      "A\n",
      "N\n",
      "J\n",
      "A\n",
      "N\n",
      " \n"
     ]
    }
   ],
   "source": [
    "s = \"BISWARANJAN \"\n",
    "for i in s :\n",
    "    print(i)"
   ]
  },
  {
   "cell_type": "code",
   "execution_count": 25,
   "id": "aa37414f",
   "metadata": {},
   "outputs": [],
   "source": [
    "l = [1,2,3,4,5,5.6,4+8j,\"biswa\"]"
   ]
  },
  {
   "cell_type": "code",
   "execution_count": 26,
   "id": "30639aa6",
   "metadata": {},
   "outputs": [
    {
     "data": {
      "text/plain": [
       "8"
      ]
     },
     "execution_count": 26,
     "metadata": {},
     "output_type": "execute_result"
    }
   ],
   "source": [
    "len(l)"
   ]
  },
  {
   "cell_type": "code",
   "execution_count": 27,
   "id": "2519173c",
   "metadata": {},
   "outputs": [
    {
     "data": {
      "text/plain": [
       "[1, 2, 3, 4, 5, 5.6, (4+8j), 'biswa']"
      ]
     },
     "execution_count": 27,
     "metadata": {},
     "output_type": "execute_result"
    }
   ],
   "source": [
    "l"
   ]
  },
  {
   "cell_type": "code",
   "execution_count": 35,
   "id": "51a6fbae",
   "metadata": {},
   "outputs": [
    {
     "name": "stdout",
     "output_type": "stream",
     "text": [
      "index 0 for element 1\n",
      "index 1 for element 2\n",
      "index 2 for element 3\n",
      "index 3 for element 4\n",
      "index 4 for element 5\n",
      "index 5 for element 5.6\n",
      "index 6 for element (4+8j)\n",
      "index 7 for element biswa\n"
     ]
    }
   ],
   "source": [
    "l = [1,2,3,4,5,5.6,4+8j,\"biswa\"]\n",
    "for i in range(len(l)):\n",
    "    print(\"index\", i , \"for element\", l[i])\n"
   ]
  },
  {
   "cell_type": "code",
   "execution_count": 6,
   "id": "818df26f",
   "metadata": {},
   "outputs": [
    {
     "name": "stdout",
     "output_type": "stream",
     "text": [
      "24\n",
      "55\n",
      "657\n",
      "76\n",
      "34\n"
     ]
    }
   ],
   "source": [
    "l=[24,55,657,76,34,[8.88],8+9j,\"chintu\"]\n",
    "for i in l :\n",
    "    if type(i) == int:\n",
    "        print(i)\n",
    "        \n",
    "        "
   ]
  },
  {
   "cell_type": "code",
   "execution_count": 7,
   "id": "bc48a8c7",
   "metadata": {},
   "outputs": [
    {
     "data": {
      "text/plain": [
       "[24, 55, 657, 76, 34, [8.88], (8+9j), 'chintu']"
      ]
     },
     "execution_count": 7,
     "metadata": {},
     "output_type": "execute_result"
    }
   ],
   "source": [
    "l"
   ]
  },
  {
   "cell_type": "code",
   "execution_count": 9,
   "id": "368eb2d2",
   "metadata": {},
   "outputs": [
    {
     "name": "stdout",
     "output_type": "stream",
     "text": [
      "(0, 24)\n",
      "(1, 55)\n",
      "(2, 657)\n",
      "(3, 76)\n",
      "(4, 34)\n",
      "(5, [8.88])\n",
      "(6, (8+9j))\n",
      "(7, 'chintu')\n"
     ]
    }
   ],
   "source": [
    "for i in enumerate(l):\n",
    "    print(i)"
   ]
  },
  {
   "cell_type": "code",
   "execution_count": 10,
   "id": "21c84b82",
   "metadata": {},
   "outputs": [
    {
     "name": "stdout",
     "output_type": "stream",
     "text": [
      "0 24\n",
      "1 55\n",
      "2 657\n",
      "3 76\n",
      "4 34\n",
      "5 [8.88]\n",
      "6 (8+9j)\n",
      "7 chintu\n"
     ]
    }
   ],
   "source": [
    "for i , j in enumerate(l):\n",
    "    print(i , j)"
   ]
  },
  {
   "cell_type": "code",
   "execution_count": 8,
   "id": "d5f8181c",
   "metadata": {},
   "outputs": [
    {
     "ename": "SyntaxError",
     "evalue": "invalid syntax (2494376590.py, line 1)",
     "output_type": "error",
     "traceback": [
      "\u001b[1;36m  Input \u001b[1;32mIn [8]\u001b[1;36m\u001b[0m\n\u001b[1;33m    l =(1,2,3,4,54,5,6,6,5,,4,3)\u001b[0m\n\u001b[1;37m                           ^\u001b[0m\n\u001b[1;31mSyntaxError\u001b[0m\u001b[1;31m:\u001b[0m invalid syntax\n"
     ]
    }
   ],
   "source": [
    "l =(1,2,3,4,54,5,6,6,5,,4,3)"
   ]
  },
  {
   "cell_type": "code",
   "execution_count": 4,
   "id": "8204478c",
   "metadata": {},
   "outputs": [
    {
     "ename": "NameError",
     "evalue": "name 'l' is not defined",
     "output_type": "error",
     "traceback": [
      "\u001b[1;31m---------------------------------------------------------------------------\u001b[0m",
      "\u001b[1;31mNameError\u001b[0m                                 Traceback (most recent call last)",
      "Input \u001b[1;32mIn [4]\u001b[0m, in \u001b[0;36m<cell line: 1>\u001b[1;34m()\u001b[0m\n\u001b[1;32m----> 1\u001b[0m \u001b[38;5;28;01mfor\u001b[39;00m i \u001b[38;5;129;01min\u001b[39;00m \u001b[43ml\u001b[49m:\n\u001b[0;32m      2\u001b[0m     \u001b[38;5;28;01mif\u001b[39;00m \u001b[38;5;28mtype\u001b[39m(i) \u001b[38;5;241m==\u001b[39m \u001b[38;5;28mint\u001b[39m:\n\u001b[0;32m      3\u001b[0m         \u001b[38;5;28mprint\u001b[39m(i)\n",
      "\u001b[1;31mNameError\u001b[0m: name 'l' is not defined"
     ]
    }
   ],
   "source": [
    "for i in l:\n",
    "    if type(i) == int:\n",
    "        print(i)"
   ]
  },
  {
   "cell_type": "code",
   "execution_count": 3,
   "id": "95660119",
   "metadata": {},
   "outputs": [],
   "source": [
    "l=[24, 55, 657, 76, 34, [8.88], (8+9j), 'chintu']"
   ]
  },
  {
   "cell_type": "code",
   "execution_count": 9,
   "id": "e22f259f",
   "metadata": {},
   "outputs": [],
   "source": [
    "l = [24, 55, 657, 76, 34, [8.88], (8+9j), 'chintu']\n",
    "l2 = []\n",
    "for i in l :\n",
    "    if type(i) == int:\n",
    "        l2.append(i**2)"
   ]
  },
  {
   "cell_type": "code",
   "execution_count": 10,
   "id": "f7fa543a",
   "metadata": {},
   "outputs": [
    {
     "data": {
      "text/plain": [
       "[576, 3025, 431649, 5776, 1156]"
      ]
     },
     "execution_count": 10,
     "metadata": {},
     "output_type": "execute_result"
    }
   ],
   "source": [
    "l2"
   ]
  },
  {
   "cell_type": "code",
   "execution_count": 7,
   "id": "110936a1",
   "metadata": {},
   "outputs": [],
   "source": [
    "l2 = []\n",
    "for i in l :\n",
    "    if type(i) == int:\n",
    "        l2.append(i*2)"
   ]
  },
  {
   "cell_type": "code",
   "execution_count": 8,
   "id": "a190e56f",
   "metadata": {},
   "outputs": [
    {
     "data": {
      "text/plain": [
       "[48, 110, 1314, 152, 68]"
      ]
     },
     "execution_count": 8,
     "metadata": {},
     "output_type": "execute_result"
    }
   ],
   "source": [
    "l2"
   ]
  },
  {
   "cell_type": "code",
   "execution_count": 17,
   "id": "ffd51a6b",
   "metadata": {},
   "outputs": [
    {
     "name": "stdout",
     "output_type": "stream",
     "text": [
      "24\n",
      "55\n",
      "657\n",
      "76\n",
      "34\n",
      "8.55\n",
      "88.88\n",
      "9.99\n",
      "88\n"
     ]
    }
   ],
   "source": [
    "l=[24,55,657,76,34,[8.55,88.88,9.99,88,],8+9j,\"chintu\"]\n",
    "for i in l :\n",
    "    if type(i) == int:\n",
    "        print(i)\n",
    "    elif type(i) == list:\n",
    "            for j in i :\n",
    "                print(j)"
   ]
  },
  {
   "cell_type": "code",
   "execution_count": null,
   "id": "3389b54f",
   "metadata": {},
   "outputs": [],
   "source": []
  }
 ],
 "metadata": {
  "kernelspec": {
   "display_name": "Python 3 (ipykernel)",
   "language": "python",
   "name": "python3"
  },
  "language_info": {
   "codemirror_mode": {
    "name": "ipython",
    "version": 3
   },
   "file_extension": ".py",
   "mimetype": "text/x-python",
   "name": "python",
   "nbconvert_exporter": "python",
   "pygments_lexer": "ipython3",
   "version": "3.9.12"
  }
 },
 "nbformat": 4,
 "nbformat_minor": 5
}
